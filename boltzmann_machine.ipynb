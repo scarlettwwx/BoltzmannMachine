{
  "nbformat": 4,
  "nbformat_minor": 0,
  "metadata": {
    "kernelspec": {
      "name": "python3",
      "display_name": "Python 3"
    },
    "language_info": {
      "codemirror_mode": {
        "name": "ipython",
        "version": 3
      },
      "file_extension": ".py",
      "mimetype": "text/x-python",
      "name": "python",
      "nbconvert_exporter": "python",
      "pygments_lexer": "ipython3",
      "version": "3.7.0"
    },
    "colab": {
      "name": "boltzmann_260786231.ipynb",
      "provenance": [],
      "collapsed_sections": []
    },
    "accelerator": "GPU"
  },
  "cells": [
    {
      "cell_type": "code",
      "metadata": {
        "id": "56uEMS6Rfv2I",
        "colab_type": "code",
        "colab": {}
      },
      "source": [
        "import numpy as np\n",
        "import random\n",
        "import matplotlib.pyplot as plt\n",
        "import pickle, gzip, urllib.request, json"
      ],
      "execution_count": 0,
      "outputs": []
    },
    {
      "cell_type": "code",
      "metadata": {
        "id": "IiQbdfLpfv2R",
        "colab_type": "code",
        "colab": {}
      },
      "source": [
        "#To ensure reproducibility\n",
        "random.seed(11)\n",
        "np.random.seed(11)"
      ],
      "execution_count": 0,
      "outputs": []
    },
    {
      "cell_type": "code",
      "metadata": {
        "id": "YChjsDC7fv2X",
        "colab_type": "code",
        "colab": {
          "base_uri": "https://localhost:8080/",
          "height": 85
        },
        "outputId": "5887d443-e2ea-4d8d-aa24-b99c490e8c92"
      },
      "source": [
        "# Load the dataset\n",
        "urllib.request.urlretrieve(\"http://deeplearning.net/data/mnist/mnist.pkl.gz\", \"mnist.pkl.gz\")\n",
        "with gzip.open('mnist.pkl.gz', 'rb') as f:\n",
        "    train_set, valid_set, test_set = pickle.load(f, encoding='latin1')\n",
        "    \n",
        "train_images = train_set[0]\n",
        "train_labels = train_set[1]\n",
        "\n",
        "test_images = test_set[0]\n",
        "test_labels = test_set[1]\n",
        "\n",
        "# Check that we have the expected shape of arrays, should be (50000, 784), (50000,), (10000, 784), (10000,)\n",
        "print(train_images.shape)\n",
        "print(train_labels.shape)\n",
        "\n",
        "print(test_images.shape)\n",
        "print(test_labels.shape)"
      ],
      "execution_count": 3,
      "outputs": [
        {
          "output_type": "stream",
          "text": [
            "(50000, 784)\n",
            "(50000,)\n",
            "(10000, 784)\n",
            "(10000,)\n"
          ],
          "name": "stdout"
        }
      ]
    },
    {
      "cell_type": "code",
      "metadata": {
        "id": "HQHTJ1Lnfv2f",
        "colab_type": "code",
        "colab": {
          "base_uri": "https://localhost:8080/",
          "height": 315
        },
        "outputId": "4ab24a6c-68d1-4cc2-cab5-9b8433d9b492"
      },
      "source": [
        "#Plot the first training image and label\n",
        "train_sample1 = train_images[0,:]\n",
        "train_sample1 = train_sample1.reshape((28, 28))\n",
        "label = train_labels[0]\n",
        "print(train_sample1.shape)\n",
        "print(label)\n",
        "\n",
        "plt.title('Label is {label}'.format(label=label))\n",
        "plt.imshow(train_sample1, cmap='gray')\n",
        "plt.show()"
      ],
      "execution_count": 4,
      "outputs": [
        {
          "output_type": "stream",
          "text": [
            "(28, 28)\n",
            "5\n"
          ],
          "name": "stdout"
        },
        {
          "output_type": "display_data",
          "data": {
            "image/png": "[encoded data removed]",
            "text/plain": [
              "<Figure size 432x288 with 1 Axes>"
            ]
          },
          "metadata": {
            "tags": []
          }
        }
      ]
    },
    {
      "cell_type": "code",
      "metadata": {
        "id": "j8pIGnl0fv2j",
        "colab_type": "code",
        "colab": {}
      },
      "source": [
        "class boltzmann_machine(object):\n",
        "    \"\"\"\n",
        "    Define a class for a boltzmann machine here.\n",
        "    You must also define the functions below, but you can add additional arguments, etc.\n",
        "    Also, note that you are welcome to write your own helper functions.\n",
        "    Reminder: you should use numpy functions for vector and matrix operations. No autograd!\n",
        "    \"\"\"\n",
        "\n",
        "    # The initialization function for the boltzmann machine\n",
        "    def __init__(self, num_visible, num_hidden):\n",
        "        self.num_hidden = num_hidden\n",
        "        self.num_visible = num_visible\n",
        "        self.debug_print = True\n",
        "        np_rng = np.random.RandomState(1234)\n",
        "\n",
        "        self.weightVH = np.random.normal(0, 0.01, size=(self.num_visible, self.num_hidden))\n",
        "        self.weightHH = np.random.normal(0, 0.01, size=(self.num_hidden, self.num_hidden))\n",
        "        self.weightHH = (self.weightHH + self.weightHH.T)/2\n",
        "        np.fill_diagonal(self.weightHH, 0.0)# symmetric & diagonal=0\n",
        "        self.bias = np.zeros(num_visible + num_hidden) #thresholds\n",
        "\n",
        "        self.energy = np.zeros(num_visible + num_hidden)\n",
        "        self.states = np.array([np.zeros(num_visible + num_hidden)])\n",
        "        print('You have inititialized a BM!')\n",
        "\n",
        "    # The function for Gibbs sampling\n",
        "    def gibbs(self, sample_img):\n",
        "        #I define two gibbs sampling, this is for wake phase\n",
        "        num_visible = self.num_visible\n",
        "        num_hidden = self.num_hidden\n",
        "        coactivity = np.zeros((num_visible+num_hidden,num_visible+num_hidden))\n",
        "        temperature = 201\n",
        "        #awake phase\n",
        "        #clamp visible states to one image\n",
        "        self.states[0][:num_visible] = sample_img[:num_visible]\n",
        "        #Assigning random values to the hidden units\n",
        "        self.states[0][-num_hidden:] = np.random.choice([0,1],num_hidden)\n",
        "        numUnitsToSelect = self.num_hidden\n",
        "        num_runs = 100 # increase with Temp goes down\n",
        "        count =0\n",
        "        while (temperature >1):\n",
        "            for i in range(num_runs):\n",
        "                # randomly turn ON/OFF a hidden unit\n",
        "                unit= num_hidden +num_visible -np.random.randint(1,num_hidden+1)\n",
        "                self.energy[unit] = self.bias[unit]- np.dot(self.states[0][:num_visible], self.weightVH[:,unit-num_visible])-np.dot(self.states[0][-num_hidden:],self.weightHH[:,unit-num_visible])\n",
        "                p = 1. / (1.+ np.exp(self.energy[unit] / temperature))\n",
        "                self.states[0][unit] = 1 if  np.random.uniform() <= p else 0\n",
        "                coactivity += np.dot(self.states.T ,self.states) #get the coactivity matrix\n",
        "            num_runs += 10\n",
        "            temperature -= 5\n",
        "            count = count+num_runs\n",
        "        return (coactivity/count)\n",
        "\n",
        "    def gibbsSleep(self):\n",
        "        num_visible = self.num_visible\n",
        "        num_hidden = self.num_hidden\n",
        "        coactivity = np.zeros((num_visible+num_hidden,num_visible+num_hidden))\n",
        "        temperature = 201\n",
        "        #Assigning random values to all visible & hidden units\n",
        "        self.states[0][:] = np.random.choice([0,1],num_hidden+num_visible)\n",
        "        num_runs = 100 # increase as Temp goes down\n",
        "        count =0\n",
        "        while (temperature >1):\n",
        "            for i in range(num_runs):\n",
        "                # randomly turn ON/OFF a visible or hidden unit ;\n",
        "                unit = np.random.randint(num_hidden+num_visible)\n",
        "                if (unit >=784):\n",
        "                    self.energy[unit] = self.bias[unit]- np.dot(self.states[0][:num_visible], self.weightVH[:,unit-num_visible])-np.dot(self.states[0][-num_hidden:],self.weightHH[:,unit-num_visible])\n",
        "                else:\n",
        "                    self.energy[unit] = self.bias[unit]- np.dot(self.states[0][-num_hidden:], self.weightVH[unit,:])\n",
        "                p = 1. / (1.+ np.exp(self.energy[unit] / temperature))\n",
        "                self.states[0][unit] = 1 if  np.random.uniform() <= p else 0\n",
        "                coactivity += np.dot(self.states.T ,self.states) #get the coactivity matrix\n",
        "            num_runs += 10\n",
        "            temperature -= 5\n",
        "            count = count+num_runs\n",
        "        return (coactivity/count)\n",
        "\n",
        "\n",
        "    def update(self,pplus,pminus,learn,temp):\n",
        "        #update weights of VH\n",
        "        for i in range(self.num_visible):\n",
        "            for j in range(self.num_hidden):\n",
        "                self.weightVH[i][j] = self.weightVH[i][j]+ learn * (1.0 / temp) * (pplus[i][self.num_visible+j] - pminus[i][self.num_visible+j])\n",
        "        #update weights of HH\n",
        "        for k in range(self.num_hidden):\n",
        "            for m in range(k+1,self.num_hidden):\n",
        "                self.weightHH[k][m] = self.weightHH[k][m]+ learn * (1.0 / temp) * (pplus[self.num_visible+k][self.num_visible+m] -pplus[self.num_visible+k][self.num_visible+m])\n",
        "\n",
        "        #update thresholds-bias: <a_i>+ = pplus[i][i]\n",
        "        for i in range (self.num_visible+self.num_hidden):\n",
        "            self.bias[i] = self.bias[i]+(1.0 / temp) *(pminus[i][i] - pplus[i][i])\n",
        "\n",
        "\n",
        "    #calculate the probability of each visible unit being on given hidden units p(v=1|h)\n",
        "    def decode(self,temp):\n",
        "        probs=[]\n",
        "        for unit in range(self.num_visible):\n",
        "            self.energy[unit] = self.bias[unit]- np.dot(self.states[0][-self.num_hidden:], self.weightVH[unit,:])\n",
        "            p = 1. / (1.+ np.exp(self.energy[unit] / temp)) \n",
        "            probs += [p]\n",
        "        return probs\n",
        "        \n",
        "    # The function for training the boltzmann machine\n",
        "    def train(self,train_images):\n",
        "        max_epochs = 100\n",
        "        learning_rate = 0.01\n",
        "        temperature = 1\n",
        "        #p_minus = self.gibbsSleep()\n",
        "        for epoch in range(max_epochs):\n",
        "            loss=0\n",
        "            for i in range(len(train_images)):\n",
        "                p_minus = self.gibbsSleep()\n",
        "                minus_prob = self.decode(temperature)\n",
        "                p_plus = self.gibbs(train_images[i])\n",
        "                self.update(p_plus,p_minus,learning_rate,temperature)\n",
        "                #calculte loss by getting a mean field approximation of the -log(p(v^k)^-) for each image\n",
        "                for i in range(self.num_visible):\n",
        "                    if (self.states[0][i] == 1):\n",
        "                        loss += -np.log(minus_prob[i])\n",
        "                    else:\n",
        "                        loss += 1-np.log(minus_prob[i])\n",
        "            if self.debug_print:\n",
        "                print(\"Epoch %s: loss value is %s\" % (epoch, loss))\n",
        "\n",
        "\n",
        "    # The function for testing the boltzmann machine\n",
        "    def test(self,test_images):\n",
        "        temperature = 1\n",
        "        p_minus = self.gibbsSleep()\n",
        "        minus_prob = self.decode(temperature)\n",
        "        loss=0\n",
        "        for i in range(len(test_images)):\n",
        "            p_plus = self.gibbs(test_images[i])\n",
        "            #calculate loss\n",
        "            for i in range(self.num_visible):\n",
        "                if (self.states[0][i] == 1):\n",
        "                    loss += -np.log(minus_prob[i])\n",
        "                else:\n",
        "                    loss += 1-np.log(minus_prob[i])\n",
        "        print('The total loss value of testing set is {}'.format(loss))\n",
        "\n",
        "    # The function for testing the boltzmann machine\n",
        "    def test(self,hidden):\n",
        "      #given a hidden units input, decode.\n",
        "      for unit in range(self.num_visible):\n",
        "         self.energy[unit] = self.bias[unit]- np.dot(hidden, self.weightVH[unit,:])\n",
        "         p = 1. / (1.+ np.exp(self.energy[unit] / temp)) \n",
        "         self.states[0][unit] = 1 if  np.random.uniform() <= p else 0\n",
        "      return self.states[:self.num_visible]\n",
        "        \n",
        "\n"
      ],
      "execution_count": 0,
      "outputs": []
    },
    {
      "cell_type": "code",
      "metadata": {
        "id": "aFpVIWaEfv2o",
        "colab_type": "code",
        "colab": {}
      },
      "source": [
        "def binary_image(image):\n",
        "    for i in range(len(image)):\n",
        "        if image[i]<0.5:\n",
        "            image[i]=0\n",
        "        else:\n",
        "            image[i]=1\n",
        "    return image"
      ],
      "execution_count": 0,
      "outputs": []
    },
    {
      "cell_type": "code",
      "metadata": {
        "id": "nkK646Mzfv2x",
        "colab_type": "code",
        "colab": {
          "base_uri": "https://localhost:8080/",
          "height": 443
        },
        "outputId": "8d796a84-001d-4208-e532-03c2dc205cac"
      },
      "source": [
        "# Create a Boltzmann machine and train it on one img, BUT my loss does decrease, but keep increasing?????\n",
        "train_images[1] = binary_image(train_images[1])\n",
        "bm = boltzmann_machine(num_visible = 784, num_hidden = 20)\n",
        "bm.train(train_images[:1])"
      ],
      "execution_count": 8,
      "outputs": [
        {
          "output_type": "stream",
          "text": [
            "You have inititialized a BM!\n",
            "Epoch 0: loss value is 1327.8308022912656\n",
            "Epoch 1: loss value is 1502.6398217103522\n",
            "Epoch 2: loss value is 1724.0517918927287\n",
            "Epoch 3: loss value is 1974.7356288587746\n",
            "Epoch 4: loss value is 2271.0432061776974\n"
          ],
          "name": "stdout"
        },
        {
          "output_type": "error",
          "ename": "KeyboardInterrupt",
          "evalue": "ignored",
          "traceback": [
            "\u001b[0;31m---------------------------------------------------------------------------\u001b[0m",
            "\u001b[0;31mKeyboardInterrupt\u001b[0m                         Traceback (most recent call last)",
            "\u001b[0;32m<ipython-input-8-5617dd9116a4>\u001b[0m in \u001b[0;36m<module>\u001b[0;34m()\u001b[0m\n\u001b[1;32m      1\u001b[0m \u001b[0mtrain_images\u001b[0m\u001b[0;34m[\u001b[0m\u001b[0;36m1\u001b[0m\u001b[0;34m]\u001b[0m \u001b[0;34m=\u001b[0m \u001b[0mbinary_image\u001b[0m\u001b[0;34m(\u001b[0m\u001b[0mtrain_images\u001b[0m\u001b[0;34m[\u001b[0m\u001b[0;36m1\u001b[0m\u001b[0;34m]\u001b[0m\u001b[0;34m)\u001b[0m\u001b[0;34m\u001b[0m\u001b[0;34m\u001b[0m\u001b[0m\n\u001b[1;32m      2\u001b[0m \u001b[0mbm\u001b[0m \u001b[0;34m=\u001b[0m \u001b[0mboltzmann_machine\u001b[0m\u001b[0;34m(\u001b[0m\u001b[0mnum_visible\u001b[0m \u001b[0;34m=\u001b[0m \u001b[0;36m784\u001b[0m\u001b[0;34m,\u001b[0m \u001b[0mnum_hidden\u001b[0m \u001b[0;34m=\u001b[0m \u001b[0;36m20\u001b[0m\u001b[0;34m)\u001b[0m\u001b[0;34m\u001b[0m\u001b[0;34m\u001b[0m\u001b[0m\n\u001b[0;32m----> 3\u001b[0;31m \u001b[0mbm\u001b[0m\u001b[0;34m.\u001b[0m\u001b[0mtrain\u001b[0m\u001b[0;34m(\u001b[0m\u001b[0mtrain_images\u001b[0m\u001b[0;34m[\u001b[0m\u001b[0;34m:\u001b[0m\u001b[0;36m1\u001b[0m\u001b[0;34m]\u001b[0m\u001b[0;34m)\u001b[0m\u001b[0;34m\u001b[0m\u001b[0;34m\u001b[0m\u001b[0m\n\u001b[0m",
            "\u001b[0;32m<ipython-input-5-42a75e145adc>\u001b[0m in \u001b[0;36mtrain\u001b[0;34m(self, train_images)\u001b[0m\n\u001b[1;32m    113\u001b[0m                 \u001b[0mp_minus\u001b[0m \u001b[0;34m=\u001b[0m \u001b[0mself\u001b[0m\u001b[0;34m.\u001b[0m\u001b[0mgibbsSleep\u001b[0m\u001b[0;34m(\u001b[0m\u001b[0;34m)\u001b[0m\u001b[0;34m\u001b[0m\u001b[0;34m\u001b[0m\u001b[0m\n\u001b[1;32m    114\u001b[0m                 \u001b[0mminus_prob\u001b[0m \u001b[0;34m=\u001b[0m \u001b[0mself\u001b[0m\u001b[0;34m.\u001b[0m\u001b[0mdecode\u001b[0m\u001b[0;34m(\u001b[0m\u001b[0mtemperature\u001b[0m\u001b[0;34m)\u001b[0m\u001b[0;34m\u001b[0m\u001b[0;34m\u001b[0m\u001b[0m\n\u001b[0;32m--> 115\u001b[0;31m                 \u001b[0mp_plus\u001b[0m \u001b[0;34m=\u001b[0m \u001b[0mself\u001b[0m\u001b[0;34m.\u001b[0m\u001b[0mgibbs\u001b[0m\u001b[0;34m(\u001b[0m\u001b[0mtrain_images\u001b[0m\u001b[0;34m[\u001b[0m\u001b[0mi\u001b[0m\u001b[0;34m]\u001b[0m\u001b[0;34m)\u001b[0m\u001b[0;34m\u001b[0m\u001b[0;34m\u001b[0m\u001b[0m\n\u001b[0m\u001b[1;32m    116\u001b[0m                 \u001b[0mself\u001b[0m\u001b[0;34m.\u001b[0m\u001b[0mupdate\u001b[0m\u001b[0;34m(\u001b[0m\u001b[0mp_plus\u001b[0m\u001b[0;34m,\u001b[0m\u001b[0mp_minus\u001b[0m\u001b[0;34m,\u001b[0m\u001b[0mlearning_rate\u001b[0m\u001b[0;34m,\u001b[0m\u001b[0mtemperature\u001b[0m\u001b[0;34m)\u001b[0m\u001b[0;34m\u001b[0m\u001b[0;34m\u001b[0m\u001b[0m\n\u001b[1;32m    117\u001b[0m                 \u001b[0;31m#calculte loss by getting a mean field approximation of the -log(p(v^k)^-) for each image\u001b[0m\u001b[0;34m\u001b[0m\u001b[0;34m\u001b[0m\u001b[0;34m\u001b[0m\u001b[0m\n",
            "\u001b[0;32m<ipython-input-5-42a75e145adc>\u001b[0m in \u001b[0;36mgibbs\u001b[0;34m(self, sample_img)\u001b[0m\n\u001b[1;32m     46\u001b[0m                 \u001b[0mp\u001b[0m \u001b[0;34m=\u001b[0m \u001b[0;36m1.\u001b[0m \u001b[0;34m/\u001b[0m \u001b[0;34m(\u001b[0m\u001b[0;36m1.\u001b[0m\u001b[0;34m+\u001b[0m \u001b[0mnp\u001b[0m\u001b[0;34m.\u001b[0m\u001b[0mexp\u001b[0m\u001b[0;34m(\u001b[0m\u001b[0mself\u001b[0m\u001b[0;34m.\u001b[0m\u001b[0menergy\u001b[0m\u001b[0;34m[\u001b[0m\u001b[0munit\u001b[0m\u001b[0;34m]\u001b[0m \u001b[0;34m/\u001b[0m \u001b[0mtemperature\u001b[0m\u001b[0;34m)\u001b[0m\u001b[0;34m)\u001b[0m\u001b[0;34m\u001b[0m\u001b[0;34m\u001b[0m\u001b[0m\n\u001b[1;32m     47\u001b[0m                 \u001b[0mself\u001b[0m\u001b[0;34m.\u001b[0m\u001b[0mstates\u001b[0m\u001b[0;34m[\u001b[0m\u001b[0;36m0\u001b[0m\u001b[0;34m]\u001b[0m\u001b[0;34m[\u001b[0m\u001b[0munit\u001b[0m\u001b[0;34m]\u001b[0m \u001b[0;34m=\u001b[0m \u001b[0;36m1\u001b[0m \u001b[0;32mif\u001b[0m  \u001b[0mnp\u001b[0m\u001b[0;34m.\u001b[0m\u001b[0mrandom\u001b[0m\u001b[0;34m.\u001b[0m\u001b[0muniform\u001b[0m\u001b[0;34m(\u001b[0m\u001b[0;34m)\u001b[0m \u001b[0;34m<=\u001b[0m \u001b[0mp\u001b[0m \u001b[0;32melse\u001b[0m \u001b[0;36m0\u001b[0m\u001b[0;34m\u001b[0m\u001b[0;34m\u001b[0m\u001b[0m\n\u001b[0;32m---> 48\u001b[0;31m                 \u001b[0mcoactivity\u001b[0m \u001b[0;34m+=\u001b[0m \u001b[0mnp\u001b[0m\u001b[0;34m.\u001b[0m\u001b[0mdot\u001b[0m\u001b[0;34m(\u001b[0m\u001b[0mself\u001b[0m\u001b[0;34m.\u001b[0m\u001b[0mstates\u001b[0m\u001b[0;34m.\u001b[0m\u001b[0mT\u001b[0m \u001b[0;34m,\u001b[0m\u001b[0mself\u001b[0m\u001b[0;34m.\u001b[0m\u001b[0mstates\u001b[0m\u001b[0;34m)\u001b[0m \u001b[0;31m#get the coactivity matrix\u001b[0m\u001b[0;34m\u001b[0m\u001b[0;34m\u001b[0m\u001b[0m\n\u001b[0m\u001b[1;32m     49\u001b[0m             \u001b[0mnum_runs\u001b[0m \u001b[0;34m+=\u001b[0m \u001b[0;36m10\u001b[0m\u001b[0;34m\u001b[0m\u001b[0;34m\u001b[0m\u001b[0m\n\u001b[1;32m     50\u001b[0m             \u001b[0mtemperature\u001b[0m \u001b[0;34m-=\u001b[0m \u001b[0;36m5\u001b[0m\u001b[0;34m\u001b[0m\u001b[0;34m\u001b[0m\u001b[0m\n",
            "\u001b[0;31mKeyboardInterrupt\u001b[0m: "
          ]
        }
      ]
    },
    {
      "cell_type": "code",
      "metadata": {
        "id": "BvJ1tRGyfv22",
        "colab_type": "code",
        "colab": {
          "base_uri": "https://localhost:8080/",
          "height": 265
        },
        "outputId": "7348813c-68a9-46c3-9063-a1395a690b2e"
      },
      "source": [
        "# Plot generated images from your Boltzmann machine running freely (no clamping)\n",
        "bm.gibbsSleep()\n",
        "out = bm.states[0][:784].reshape((28, 28))\n",
        "plt.imshow(out, cmap='gray')\n",
        "plt.show()"
      ],
      "execution_count": 9,
      "outputs": [
        {
          "output_type": "display_data",
          "data": {
            "image/png": "[encoded data removed]",
            "text/plain": [
              "<Figure size 432x288 with 1 Axes>"
            ]
          },
          "metadata": {
            "tags": []
          }
        }
      ]
    }
  ]
}